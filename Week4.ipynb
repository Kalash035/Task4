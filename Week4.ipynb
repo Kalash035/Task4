{
 "cells": [
  {
   "cell_type": "code",
   "execution_count": 32,
   "id": "91c37f18-a98a-41a7-aecf-14ac91ef3571",
   "metadata": {},
   "outputs": [],
   "source": [
    "import pandas as pd\n",
    "import numpy as np\n",
    "import matplotlib.pyplot as plt\n",
    "import seaborn as sns\n",
    "from datetime import datetime\n"
   ]
  },
  {
   "cell_type": "code",
   "execution_count": 33,
   "id": "1f1154bd-2424-4c17-a6b1-dbd1553a54e6",
   "metadata": {},
   "outputs": [],
   "source": [
    "data = pd.read_csv('C:\\\\Users\\\\91701\\\\Desktop\\\\python_ws\\\\StoreData.csv',encoding = 'cp1252')"
   ]
  },
  {
   "cell_type": "code",
   "execution_count": 34,
   "id": "c3074bab-94f6-44b9-9d95-4e9e188cd22e",
   "metadata": {},
   "outputs": [
    {
     "data": {
      "text/html": [
       "<div>\n",
       "<style scoped>\n",
       "    .dataframe tbody tr th:only-of-type {\n",
       "        vertical-align: middle;\n",
       "    }\n",
       "\n",
       "    .dataframe tbody tr th {\n",
       "        vertical-align: top;\n",
       "    }\n",
       "\n",
       "    .dataframe thead th {\n",
       "        text-align: right;\n",
       "    }\n",
       "</style>\n",
       "<table border=\"1\" class=\"dataframe\">\n",
       "  <thead>\n",
       "    <tr style=\"text-align: right;\">\n",
       "      <th></th>\n",
       "      <th>Sno</th>\n",
       "      <th>Product</th>\n",
       "      <th>Name</th>\n",
       "      <th>Number</th>\n",
       "      <th>Earn</th>\n",
       "      <th>Lost</th>\n",
       "      <th>Net</th>\n",
       "      <th>Sign</th>\n",
       "      <th>Item</th>\n",
       "      <th>Point</th>\n",
       "      <th>Date</th>\n",
       "    </tr>\n",
       "  </thead>\n",
       "  <tbody>\n",
       "    <tr>\n",
       "      <th>0</th>\n",
       "      <td>0</td>\n",
       "      <td>Eldon Base for stackable storage shelf, platinum</td>\n",
       "      <td>Muhammed MacIntyre</td>\n",
       "      <td>3</td>\n",
       "      <td>-213.25</td>\n",
       "      <td>38.94</td>\n",
       "      <td>35.00</td>\n",
       "      <td>Nunavut</td>\n",
       "      <td>Storage &amp; Organization</td>\n",
       "      <td>0.80</td>\n",
       "      <td>17.2.11</td>\n",
       "    </tr>\n",
       "    <tr>\n",
       "      <th>1</th>\n",
       "      <td>2</td>\n",
       "      <td>1.7 Cubic Foot Compact \"Cube\" Office Refrigera...</td>\n",
       "      <td>Barry French</td>\n",
       "      <td>293</td>\n",
       "      <td>457.81</td>\n",
       "      <td>208.16</td>\n",
       "      <td>68.02</td>\n",
       "      <td>Nunavut</td>\n",
       "      <td>Appliances</td>\n",
       "      <td>0.58</td>\n",
       "      <td>17.2.12</td>\n",
       "    </tr>\n",
       "    <tr>\n",
       "      <th>2</th>\n",
       "      <td>3</td>\n",
       "      <td>Cardinal Slant-Dï¿½ï¿½ï¿½ï¿½ï¿½ï¿½ï¿½ï¿½ï¿½ Ring</td>\n",
       "      <td>Barry French</td>\n",
       "      <td>293</td>\n",
       "      <td>46.71</td>\n",
       "      <td>8.69</td>\n",
       "      <td>2.99</td>\n",
       "      <td>Nunavut</td>\n",
       "      <td>Binders and Binder Accessories</td>\n",
       "      <td>0.39</td>\n",
       "      <td>17.2.13</td>\n",
       "    </tr>\n",
       "    <tr>\n",
       "      <th>3</th>\n",
       "      <td>4</td>\n",
       "      <td>R380</td>\n",
       "      <td>Clay Rozendal</td>\n",
       "      <td>483</td>\n",
       "      <td>1198.97</td>\n",
       "      <td>195.99</td>\n",
       "      <td>3.99</td>\n",
       "      <td>Nunavut</td>\n",
       "      <td>Telephones and Communication</td>\n",
       "      <td>0.58</td>\n",
       "      <td>17.2.14</td>\n",
       "    </tr>\n",
       "    <tr>\n",
       "      <th>4</th>\n",
       "      <td>5</td>\n",
       "      <td>Holmes HEPA Air Purifier</td>\n",
       "      <td>Carlos Soltero</td>\n",
       "      <td>515</td>\n",
       "      <td>30.94</td>\n",
       "      <td>21.78</td>\n",
       "      <td>5.94</td>\n",
       "      <td>Nunavut</td>\n",
       "      <td>Appliances</td>\n",
       "      <td>0.50</td>\n",
       "      <td>17.2.15</td>\n",
       "    </tr>\n",
       "  </tbody>\n",
       "</table>\n",
       "</div>"
      ],
      "text/plain": [
       "   Sno                                            Product                Name  \\\n",
       "0    0   Eldon Base for stackable storage shelf, platinum  Muhammed MacIntyre   \n",
       "1    2  1.7 Cubic Foot Compact \"Cube\" Office Refrigera...        Barry French   \n",
       "2    3   Cardinal Slant-Dï¿½ï¿½ï¿½ï¿½ï¿½ï¿½ï¿½ï¿½ï¿½ Ring        Barry French   \n",
       "3    4                                               R380       Clay Rozendal   \n",
       "4    5                           Holmes HEPA Air Purifier      Carlos Soltero   \n",
       "\n",
       "   Number     Earn    Lost    Net     Sign                            Item  \\\n",
       "0       3  -213.25   38.94  35.00  Nunavut          Storage & Organization   \n",
       "1     293   457.81  208.16  68.02  Nunavut                      Appliances   \n",
       "2     293    46.71    8.69   2.99  Nunavut  Binders and Binder Accessories   \n",
       "3     483  1198.97  195.99   3.99  Nunavut    Telephones and Communication   \n",
       "4     515    30.94   21.78   5.94  Nunavut                      Appliances   \n",
       "\n",
       "   Point     Date  \n",
       "0   0.80  17.2.11  \n",
       "1   0.58  17.2.12  \n",
       "2   0.39  17.2.13  \n",
       "3   0.58  17.2.14  \n",
       "4   0.50  17.2.15  "
      ]
     },
     "execution_count": 34,
     "metadata": {},
     "output_type": "execute_result"
    }
   ],
   "source": [
    "data.head()"
   ]
  },
  {
   "cell_type": "code",
   "execution_count": 35,
   "id": "f7f7c38a-4f4c-40e2-a8c3-d70c7024f2b1",
   "metadata": {},
   "outputs": [
    {
     "data": {
      "text/plain": [
       "(9, 11)"
      ]
     },
     "execution_count": 35,
     "metadata": {},
     "output_type": "execute_result"
    }
   ],
   "source": [
    "data.shape"
   ]
  },
  {
   "cell_type": "code",
   "execution_count": 36,
   "id": "852f5956-c141-4f79-a9fe-42194cf724c3",
   "metadata": {},
   "outputs": [
    {
     "data": {
      "text/plain": [
       "(9, 11)"
      ]
     },
     "execution_count": 36,
     "metadata": {},
     "output_type": "execute_result"
    }
   ],
   "source": [
    "data=data.drop_duplicates()\n",
    "data.shape"
   ]
  },
  {
   "cell_type": "code",
   "execution_count": 37,
   "id": "2fe9a93d-33b1-48c1-95a0-1a36947733a0",
   "metadata": {},
   "outputs": [
    {
     "data": {
      "text/html": [
       "<div>\n",
       "<style scoped>\n",
       "    .dataframe tbody tr th:only-of-type {\n",
       "        vertical-align: middle;\n",
       "    }\n",
       "\n",
       "    .dataframe tbody tr th {\n",
       "        vertical-align: top;\n",
       "    }\n",
       "\n",
       "    .dataframe thead th {\n",
       "        text-align: right;\n",
       "    }\n",
       "</style>\n",
       "<table border=\"1\" class=\"dataframe\">\n",
       "  <thead>\n",
       "    <tr style=\"text-align: right;\">\n",
       "      <th></th>\n",
       "      <th>Sno</th>\n",
       "      <th>Number</th>\n",
       "      <th>Earn</th>\n",
       "      <th>Lost</th>\n",
       "      <th>Net</th>\n",
       "      <th>Point</th>\n",
       "    </tr>\n",
       "  </thead>\n",
       "  <tbody>\n",
       "    <tr>\n",
       "      <th>count</th>\n",
       "      <td>9.000000</td>\n",
       "      <td>9.000000</td>\n",
       "      <td>9.000000</td>\n",
       "      <td>9.000000</td>\n",
       "      <td>9.000000</td>\n",
       "      <td>7.000000</td>\n",
       "    </tr>\n",
       "    <tr>\n",
       "      <th>mean</th>\n",
       "      <td>4.888889</td>\n",
       "      <td>441.222222</td>\n",
       "      <td>100.445556</td>\n",
       "      <td>74.266667</td>\n",
       "      <td>18.870000</td>\n",
       "      <td>0.514286</td>\n",
       "    </tr>\n",
       "    <tr>\n",
       "      <th>std</th>\n",
       "      <td>2.934469</td>\n",
       "      <td>208.668264</td>\n",
       "      <td>513.269379</td>\n",
       "      <td>83.049301</td>\n",
       "      <td>22.513777</td>\n",
       "      <td>0.155334</td>\n",
       "    </tr>\n",
       "    <tr>\n",
       "      <th>min</th>\n",
       "      <td>0.000000</td>\n",
       "      <td>3.000000</td>\n",
       "      <td>-695.260000</td>\n",
       "      <td>6.640000</td>\n",
       "      <td>2.990000</td>\n",
       "      <td>0.370000</td>\n",
       "    </tr>\n",
       "    <tr>\n",
       "      <th>25%</th>\n",
       "      <td>3.000000</td>\n",
       "      <td>293.000000</td>\n",
       "      <td>-54.040000</td>\n",
       "      <td>8.690000</td>\n",
       "      <td>4.950000</td>\n",
       "      <td>0.385000</td>\n",
       "    </tr>\n",
       "    <tr>\n",
       "      <th>50%</th>\n",
       "      <td>5.000000</td>\n",
       "      <td>515.000000</td>\n",
       "      <td>30.940000</td>\n",
       "      <td>38.940000</td>\n",
       "      <td>6.220000</td>\n",
       "      <td>0.500000</td>\n",
       "    </tr>\n",
       "    <tr>\n",
       "      <th>75%</th>\n",
       "      <td>7.000000</td>\n",
       "      <td>613.000000</td>\n",
       "      <td>127.700000</td>\n",
       "      <td>138.140000</td>\n",
       "      <td>35.000000</td>\n",
       "      <td>0.580000</td>\n",
       "    </tr>\n",
       "    <tr>\n",
       "      <th>max</th>\n",
       "      <td>9.000000</td>\n",
       "      <td>643.000000</td>\n",
       "      <td>1198.970000</td>\n",
       "      <td>208.160000</td>\n",
       "      <td>68.020000</td>\n",
       "      <td>0.800000</td>\n",
       "    </tr>\n",
       "  </tbody>\n",
       "</table>\n",
       "</div>"
      ],
      "text/plain": [
       "            Sno      Number         Earn        Lost        Net     Point\n",
       "count  9.000000    9.000000     9.000000    9.000000   9.000000  7.000000\n",
       "mean   4.888889  441.222222   100.445556   74.266667  18.870000  0.514286\n",
       "std    2.934469  208.668264   513.269379   83.049301  22.513777  0.155334\n",
       "min    0.000000    3.000000  -695.260000    6.640000   2.990000  0.370000\n",
       "25%    3.000000  293.000000   -54.040000    8.690000   4.950000  0.385000\n",
       "50%    5.000000  515.000000    30.940000   38.940000   6.220000  0.500000\n",
       "75%    7.000000  613.000000   127.700000  138.140000  35.000000  0.580000\n",
       "max    9.000000  643.000000  1198.970000  208.160000  68.020000  0.800000"
      ]
     },
     "execution_count": 37,
     "metadata": {},
     "output_type": "execute_result"
    }
   ],
   "source": [
    "data.describe()\n"
   ]
  },
  {
   "cell_type": "code",
   "execution_count": 38,
   "id": "bc6507bc-4604-4c65-a4ce-1ca429da6e6e",
   "metadata": {},
   "outputs": [
    {
     "name": "stdout",
     "output_type": "stream",
     "text": [
      "<class 'pandas.core.frame.DataFrame'>\n",
      "RangeIndex: 9 entries, 0 to 8\n",
      "Data columns (total 11 columns):\n",
      " #   Column   Non-Null Count  Dtype  \n",
      "---  ------   --------------  -----  \n",
      " 0   Sno      9 non-null      int64  \n",
      " 1   Product  9 non-null      object \n",
      " 2   Name     9 non-null      object \n",
      " 3   Number   9 non-null      int64  \n",
      " 4   Earn     9 non-null      float64\n",
      " 5   Lost     9 non-null      float64\n",
      " 6   Net      9 non-null      float64\n",
      " 7   Sign     9 non-null      object \n",
      " 8   Item     9 non-null      object \n",
      " 9   Point    7 non-null      float64\n",
      " 10  Date     9 non-null      object \n",
      "dtypes: float64(4), int64(2), object(5)\n",
      "memory usage: 924.0+ bytes\n"
     ]
    }
   ],
   "source": [
    "data.info()"
   ]
  },
  {
   "cell_type": "code",
   "execution_count": 39,
   "id": "133fc08d-2a06-4491-9544-25397de3e487",
   "metadata": {},
   "outputs": [],
   "source": [
    "from datetime import datetime\n",
    "import datetime"
   ]
  },
  {
   "cell_type": "code",
   "execution_count": 40,
   "id": "0aee4769-a1c5-4792-8b37-ec76a970b40b",
   "metadata": {},
   "outputs": [
    {
     "data": {
      "image/png": "[encoded data removed]",
      "text/plain": [
       "<Figure size 640x480 with 1 Axes>"
      ]
     },
     "metadata": {},
     "output_type": "display_data"
    }
   ],
   "source": [
    "plt.bar(data['Net'],data['Date'])\n",
    "plt.xlabel('Net')\n",
    "plt.ylabel('Date')\n",
    "plt.title('Average revenue from items')\n",
    "\n",
    "plt.xticks(rotation=45)\n",
    "plt.grid(axis='y')\n",
    "\n",
    "# Display the bar chart\n",
    "plt.show()"
   ]
  },
  {
   "cell_type": "code",
   "execution_count": 42,
   "id": "5c1ac737-59aa-41db-852d-6e64ac3331ff",
   "metadata": {},
   "outputs": [
    {
     "data": {
      "image/png": "[encoded data removed]",
      "text/plain": [
       "<Figure size 640x480 with 1 Axes>"
      ]
     },
     "metadata": {},
     "output_type": "display_data"
    }
   ],
   "source": [
    "sns.scatterplot(data=data,x='Net',y='Date')\n",
    "plt.xlabel('Net')\n",
    "plt.ylabel('Date')\n",
    "plt.title('Average revenue from items')\n",
    "\n",
    "\n",
    "plt.show()"
   ]
  },
  {
   "cell_type": "code",
   "execution_count": null,
   "id": "d535865a-8bfa-460e-affb-14d8b0c3a0c5",
   "metadata": {},
   "outputs": [],
   "source": []
  }
 ],
 "metadata": {
  "kernelspec": {
   "display_name": "Python 3 (ipykernel)",
   "language": "python",
   "name": "python3"
  },
  "language_info": {
   "codemirror_mode": {
    "name": "ipython",
    "version": 3
   },
   "file_extension": ".py",
   "mimetype": "text/x-python",
   "name": "python",
   "nbconvert_exporter": "python",
   "pygments_lexer": "ipython3",
   "version": "3.12.3"
  }
 },
 "nbformat": 4,
 "nbformat_minor": 5
}
